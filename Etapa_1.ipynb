{
 "cells": [
  {
   "cell_type": "markdown",
   "metadata": {},
   "source": [
    "# Trabalho prático de SIB\n",
    "\n",
    "# Notebook 1\n",
    "\n",
    "## Classificação de Proteínas - Binary classification of protein SNAREs\n",
    "\n",
    "Gupo 5 | Joana Gabriel pg42870; Maria Couto pg44380 ; Sara Boaventura pg44381\n",
    "\n",
    "### Etapa 1 - Exploração Inicial e Pré-processamento\n"
   ]
  },
  {
   "cell_type": "markdown",
   "metadata": {},
   "source": [
    "### Descrição e caracterização dos dados atribuídos de acordo com a documentação/literatura"
   ]
  },
  {
   "cell_type": "markdown",
   "metadata": {},
   "source": [
    "SNAREs (soluble N-ethylmaleimide-sensitive factor activating receptors) são um grupo de proteínas que são cruciais para a fusão de membranas e exocitose de neurotransmissores, também estão envolvidas no crecimento celular, citocinese e transmisões sinápticas.\n",
    "\n",
    "São proteínas associadas à membrana que podem ser distinguidas de acordo com os domínios SNARE. A maiorias das proteínas SNAREs tem o SNARE motif adjacente a uma única membrana C-terminal. \n",
    "\n",
    "De um modo geral tem um dominio SNARE central com um dominio N-terminal variável e um C-terminal correspondente a uma ancora transmembranar de hélice alpha.\n",
    "\n",
    "Os dados que nos foram atribuídos foram retirados do NCBI, que foram depois analisados de modo a não ter redundância nos dados.\n",
    "Os dados correspondem a 26.789 sequencias de proteínas SNAREs e, de modo a facilitar os problemas de Machine Learning foram retiradas aleatóriamente o mesmo número de sequencias mas desta vez de proteínas que não são SNAREs.\n",
    "\n",
    "Os dados foram recolhidos de modo a poderem ser analisados como um cado de classificação binária entre um grupo positivo (o das SNAREs) e um negativo (o das non_SNAREs).\n",
    "\n",
    "Os dados estão organizados em 4 ficheiros:\n",
    "* *snare.cv* : contem 22.324 sequencias de SNAREs resultantes de validação cruzada dos dados pré-processados\n",
    "* *snare.ind* : contem 4.465 sequencias de SNAREs\n",
    "* *non_snare.cv* : contem 22.324 sequencias de não SNAREs resultantes de validação cruzada dos dados pré-processados\n",
    "* *non_snare.ind* : contem 4.465 sequencias de não SNAREs\n",
    "\n"
   ]
  },
  {
   "cell_type": "markdown",
   "metadata": {},
   "source": [
    "### Análise exploratória inicial"
   ]
  },
  {
   "cell_type": "code",
   "execution_count": 1,
   "metadata": {},
   "outputs": [],
   "source": [
    "import sklearn\n",
    "import pandas as pd\n",
    "import re\n",
    "from numpy import array, argmax\n",
    "from sklearn.preprocessing import LabelEncoder, OneHotEncoder\n",
    "from Bio import SeqIO\n",
    "from Bio.Data import IUPACData\n",
    "import matplotlib.pyplot as plt"
   ]
  },
  {
   "cell_type": "code",
   "execution_count": 2,
   "metadata": {},
   "outputs": [],
   "source": [
    "# Criacao dum dicionario com o ID da sequencia como chave e a sequencia como valor  \n",
    "non_snare_cv_seqs = {}\n",
    "for seq_record in SeqIO.parse(\"non_snare_cv.fasta\",\"fasta\"):\n",
    "    name, sequence = seq_record.id, seq_record.seq\n",
    "    non_snare_cv_seqs[name] = sequence\n",
    "#print(non_snare_cv_seqs)"
   ]
  },
  {
   "cell_type": "code",
   "execution_count": 3,
   "metadata": {},
   "outputs": [],
   "source": [
    "# Criacao dum dicionario com o ID da sequencia como chave e a sequencia como valor \n",
    "snare_cv_seqs = {}\n",
    "for seq_record in SeqIO.parse(\"snare_cv.fasta\",\"fasta\"):\n",
    "    name, sequence = seq_record.id, seq_record.seq\n",
    "    snare_cv_seqs[name] = sequence\n",
    "#print(snare_cv_seqs)"
   ]
  },
  {
   "cell_type": "code",
   "execution_count": 4,
   "metadata": {},
   "outputs": [],
   "source": [
    "# Criacao dum dicionario com o ID da sequencia como chave e a sequencia como valor \n",
    "non_snare_ind_seqs = {}\n",
    "for seq_record in SeqIO.parse(\"non_snare_ind.fasta\",\"fasta\"):\n",
    "    name, sequence = seq_record.id, seq_record.seq\n",
    "    non_snare_ind_seqs[name] = sequence\n",
    "#print(non_snare_ind_seqs)"
   ]
  },
  {
   "cell_type": "code",
   "execution_count": 5,
   "metadata": {},
   "outputs": [],
   "source": [
    "# Criacao dum dicionario com o ID da sequencia como chave e a sequencia como valor \n",
    "snare_ind_seqs = {}\n",
    "for seq_record in SeqIO.parse(\"snare_ind.fasta\",\"fasta\"):\n",
    "    name, sequence = seq_record.id, seq_record.seq\n",
    "    snare_ind_seqs[name] = sequence\n",
    "#print(snare_ind_seqs)"
   ]
  },
  {
   "cell_type": "code",
   "execution_count": 6,
   "metadata": {},
   "outputs": [
    {
     "name": "stdout",
     "output_type": "stream",
     "text": [
      "4465\n",
      "22324\n",
      "4465\n",
      "22324\n"
     ]
    }
   ],
   "source": [
    "# Numero de sequencias nos ficheiros \n",
    "print(len(snare_ind_seqs.keys()))\n",
    "print(len(snare_cv_seqs.keys()))\n",
    "print(len(non_snare_ind_seqs.keys()))\n",
    "print(len(non_snare_cv_seqs.keys()))"
   ]
  },
  {
   "cell_type": "markdown",
   "metadata": {},
   "source": [
    "De acordo com esta informação conseguimos confirmar que o número de sequências em cada ficheiro é o que está descrito na literatura."
   ]
  },
  {
   "cell_type": "code",
   "execution_count": 7,
   "metadata": {},
   "outputs": [],
   "source": [
    "# Funcao que da a sequencia mais longa no ficheiro e faz print do respetivo nome e tamanho\n",
    "def seq_length(dici, tam):\n",
    "    \"\"\"\n",
    "    dici: {seq_id: sequence} \n",
    "    tam: if s, prints the seq_id of the shortest seq and it's len\n",
    "        if l, prints the seq_id of the longest seq and it's len\n",
    "    \"\"\"\n",
    "    myList = []\n",
    "    for seq in dici.items():\n",
    "        myList.append([seq[0], str(seq[1]), len(str(seq[1]))])\n",
    "    myList.sort(key=lambda x: x[2])\n",
    "    if tam == 'l':\n",
    "        print(\"The longest sequence is: \",  myList[-1][0], ' with the length of ', myList[-1][2])\n",
    "    else:\n",
    "        print(\"The shortest sequence is: \",  myList[0][0], ' with the length of ', myList[0][2]) \n",
    "    "
   ]
  },
  {
   "cell_type": "code",
   "execution_count": 8,
   "metadata": {},
   "outputs": [
    {
     "name": "stdout",
     "output_type": "stream",
     "text": [
      "The longest sequence is:  XP_023420465.1  with the length of  4836\n",
      "The longest sequence is:  WP_077804900.1  with the length of  3916\n",
      "The longest sequence is:  NP_001367.2  with the length of  4646\n",
      "The longest sequence is:  NP_001026.2  with the length of  4967\n"
     ]
    }
   ],
   "source": [
    "# Sequencia mais longa e respetivo tamanho \n",
    "seq_length(snare_ind_seqs, 'l')\n",
    "seq_length(snare_cv_seqs, 'l')\n",
    "seq_length(non_snare_ind_seqs, 'l')\n",
    "seq_length(non_snare_cv_seqs, 'l')"
   ]
  },
  {
   "cell_type": "markdown",
   "metadata": {},
   "source": [
    "A sequencia mais longa do conjunto de dados non_snare.cv pertence à proteina humana ryanodine receptor 2, com o id *NP_001026.2* e um tamanho total de 4967 aminoácidos. A sequencia mais longa do conjunto de dados non_snare_ind pertence à proteina humana cytoplasmic dynein 1 heavy chain 1, com o id *NP_001367.2*. A sequencia mais longa do conjunto de dados snare.cv pertence à proteina YSIRK-type signal peptide-containing protein da especie Streptococcus mitis, com o id *WP_077804900.1*. A sequencia mais longa do conjunto de dados snare_ind pertence à proteina LOW QUALITY PROTEIN: dynein heavy chain 14, axonemal da espécie Cavia porcellus, com o id *XP_023420465.1* ."
   ]
  },
  {
   "cell_type": "code",
   "execution_count": 9,
   "metadata": {},
   "outputs": [
    {
     "name": "stdout",
     "output_type": "stream",
     "text": [
      "The shortest sequence is:  XP_010198571.1  with the length of  47\n",
      "The shortest sequence is:  XP_012897290.1  with the length of  37\n",
      "The shortest sequence is:  YP_009349977.1  with the length of  52\n",
      "The shortest sequence is:  YP_009535751.1  with the length of  50\n"
     ]
    }
   ],
   "source": [
    "# Sequencia mais curta no ficheiro e respetivo tamanho \n",
    "seq_length(snare_ind_seqs, 's')\n",
    "seq_length(snare_cv_seqs, 's')\n",
    "seq_length(non_snare_ind_seqs, 's')\n",
    "seq_length(non_snare_cv_seqs, 's')"
   ]
  },
  {
   "cell_type": "markdown",
   "metadata": {},
   "source": [
    "A sequencia mais pequena do conjunto de dados snares_ind, com o id *XP_010198571.1* é uma porção de uma proteína associada às membranas de vesículas com um tamanho de 47 aa. A sequencia mais pequena do conjunto de dados snares_cv, com o id *XP_012897290.1* é uma sequencia não identificada associada a blastocistos, com um tamanho de 37 aa. A sequencia mais pequena das non_snares_ind, tem o id *YP_009349977.1*, um tamanho de 52 aa e está associada à ATP synthase F0 subunidade 8. E a sequencia mais pequena das non_snares_cv, com o id *YP_009535751.1* e um tamanho de 50 aa corresponde à mesma que a anterior mas de um organismo diferente."
   ]
  },
  {
   "cell_type": "code",
   "execution_count": 10,
   "metadata": {},
   "outputs": [],
   "source": [
    "# Quantidade de aminoacidos (aa) em cada ficheiro\n",
    "def aa (dici):\n",
    "    dataframe = {}\n",
    "    for seq_record in dici.items():\n",
    "        amino={}\n",
    "        for aa in seq_record[1]:\n",
    "            if aa not in amino:\n",
    "                amino[aa] = 0\n",
    "            amino[aa] += 1\n",
    "        dataframe[seq_record[0]]=amino\n",
    "    df = pd.DataFrame(dataframe)\n",
    "    return df"
   ]
  },
  {
   "cell_type": "code",
   "execution_count": 11,
   "metadata": {
    "scrolled": true
   },
   "outputs": [
    {
     "data": {
      "text/plain": [
       "<AxesSubplot:>"
      ]
     },
     "execution_count": 11,
     "metadata": {},
     "output_type": "execute_result"
    },
    {
     "data": {
      "image/png": "[encoded data removed]",
      "text/plain": [
       "<Figure size 432x288 with 1 Axes>"
      ]
     },
     "metadata": {
      "needs_background": "light"
     },
     "output_type": "display_data"
    }
   ],
   "source": [
    "# Data frame dos aa de cada sequencia de snare_ind_seqs \n",
    "df_snare_ind_seqs = aa(snare_ind_seqs)\n",
    "\n",
    "# Grafico que tem em conta todas as sequencias e faz uma media de cada aa nas snares_ind\n",
    "df_snare_ind_seqs[\"mean\"] = df_snare_ind_seqs.mean(axis=1)\n",
    "\n",
    "df_snare_ind_seqs['mean'].plot(kind='bar',x=df_snare_ind_seqs.index)"
   ]
  },
  {
   "cell_type": "markdown",
   "metadata": {},
   "source": [
    "Ao conseguirmos ver quantos e quais os aminoacidos em cada sequencia pordemos ver que as snares_ind não contem apenas nomenclatura IUPAC, podemos ver que tem tambem o caracter X. Na fase de pré-processamento para analisar as features teremos de retirar estes caracteres. Podemos tambem observar que os aa mais encontrados são Serinas (S) e Leucinas (L). E o que aparecer em menor quantidade é o Triptofano (W)"
   ]
  },
  {
   "cell_type": "code",
   "execution_count": 12,
   "metadata": {
    "scrolled": true
   },
   "outputs": [
    {
     "data": {
      "text/plain": [
       "<AxesSubplot:>"
      ]
     },
     "execution_count": 12,
     "metadata": {},
     "output_type": "execute_result"
    },
    {
     "data": {
      "image/png": "[encoded data removed]",
      "text/plain": [
       "<Figure size 432x288 with 1 Axes>"
      ]
     },
     "metadata": {
      "needs_background": "light"
     },
     "output_type": "display_data"
    }
   ],
   "source": [
    "# Data frame dos aa de cada sequencia de snare_cv_seqs\n",
    "df_snare_cv_seqs = aa(snare_cv_seqs)\n",
    "\n",
    "# Grafico que tem em conta todas as sequencias e faz uma media de cada aa nas snares_cv\n",
    "df_snare_cv_seqs[\"mean\"] = df_snare_cv_seqs.mean(axis=1)\n",
    "\n",
    "df_snare_cv_seqs['mean'].plot(kind='bar',x=df_snare_cv_seqs.index)"
   ]
  },
  {
   "cell_type": "markdown",
   "metadata": {},
   "source": [
    "Com este ficheiro (snares_cv) podemos ver que acontece o mesmo com o anterior, mas desta vez temos os caracteres X, B e J. Podemos também observar que os aa mais encontrados são Serinas (S) e Leucinas (L). E o que aparece em menor quantidade é o Triptofano (W), tal como no ficheiro das snares_ind."
   ]
  },
  {
   "cell_type": "code",
   "execution_count": 13,
   "metadata": {
    "scrolled": true
   },
   "outputs": [
    {
     "data": {
      "text/plain": [
       "<AxesSubplot:>"
      ]
     },
     "execution_count": 13,
     "metadata": {},
     "output_type": "execute_result"
    },
    {
     "data": {
      "image/png": "[encoded data removed]",
      "text/plain": [
       "<Figure size 432x288 with 1 Axes>"
      ]
     },
     "metadata": {
      "needs_background": "light"
     },
     "output_type": "display_data"
    }
   ],
   "source": [
    "# Data frame dos aa de cada sequencia dos non_snare_ind_seqs \n",
    "df_non_snare_ind_seqs = aa(non_snare_ind_seqs)\n",
    "# Grafico que tem em conta todas as sequencias e faz uma media de cada aa nas non_snares_ind\n",
    "df_non_snare_ind_seqs[\"mean\"] = df_non_snare_ind_seqs.mean(axis=1)\n",
    "\n",
    "df_non_snare_ind_seqs['mean'].plot(kind='bar',x=df_non_snare_ind_seqs.index)"
   ]
  },
  {
   "cell_type": "markdown",
   "metadata": {},
   "source": [
    "Com este ficheiro (non_snares_ind) acontece o mesmo mas com os caracteres U e X. Podemos tambem observar que os aa mais encontrados são Serinas (S) e Leucinas (L). E o que aparecer em menor quantidade é o Triptofano (W), Tal como nos ficheiros das snares."
   ]
  },
  {
   "cell_type": "code",
   "execution_count": null,
   "metadata": {
    "scrolled": true
   },
   "outputs": [],
   "source": [
    "# Data frame of the aa in wich seq of the non_snare_cv_seqs\n",
    "df_non_snare_cv_seqs = aa(non_snare_cv_seqs)\n",
    "\n",
    "# Grafico que tem em conta todas as sequencias e faz uma media de cada aa nas non_snares_cv\n",
    "df_non_snare_cv_seqs[\"mean\"] = df_non_snare_cv_seqs.mean(axis=1)\n",
    "\n",
    "df_non_snare_cv_seqs['mean'].plot(kind='bar',x=df_non_snare_cv_seqs.index)"
   ]
  },
  {
   "cell_type": "markdown",
   "metadata": {},
   "source": [
    "Com este ficheiro (non_snares_cv) acontece o mesmo mas com os caracteres U e X. O pré processamento destas sequências terá de ser realizado antes de fazer a análise das features. Podemos também observar que os aa mais encontrados são Serinas (S) e Leucinas (L). E o que aparece em menor quantidade é o Triptofano (W), tal como em todos os outros ficheiros."
   ]
  },
  {
   "cell_type": "markdown",
   "metadata": {},
   "source": [
    "Segundos estes gráficos, não podemos concluir que o que destingue uma proteína SNARE de uma NON_SNARE seja a sua composição em aminoácidos."
   ]
  },
  {
   "cell_type": "markdown",
   "metadata": {},
   "source": [
    "Antes de fazer esse pré-processamento vamos transformar a sequência num vetor numérico com one hot encoding, de modo a termos mais uma forma de analisar as sequências."
   ]
  },
  {
   "cell_type": "code",
   "execution_count": null,
   "metadata": {},
   "outputs": [],
   "source": [
    "# Transformar as sequencias em one hot encoding \n",
    "def to_one_hot_encoding(file, filetype):\n",
    "    seqs= []\n",
    "    for seq_record in SeqIO.parse(file,filetype):\n",
    "        name, sequence = seq_record.id, seq_record.seq\n",
    "\n",
    "        #get sequence into an array\n",
    "        seq_array = array(list(sequence))\n",
    "\n",
    "        #integer encode the sequence\n",
    "        label_encoder = LabelEncoder()\n",
    "        integer_encoded_seq = label_encoder.fit_transform(seq_array)\n",
    "\n",
    "        #sequencia one hot\n",
    "        onehot_encoder = OneHotEncoder(sparse=False)    \n",
    "\n",
    "\n",
    "        integer_encoded_seq = integer_encoded_seq.reshape(len(integer_encoded_seq), 1)\n",
    "        onehot_encoded_seq = onehot_encoder.fit_transform(integer_encoded_seq)\n",
    "\n",
    "        seqs.append([name, onehot_encoded_seq])\n",
    "    return seqs"
   ]
  },
  {
   "cell_type": "code",
   "execution_count": null,
   "metadata": {},
   "outputs": [],
   "source": [
    "to_one_hot_encoding(\"non_snare_cv.fasta\", 'fasta')\n",
    "to_one_hot_encoding(\"non_snare_ind.fasta\", 'fasta')\n",
    "to_one_hot_encoding(\"snare_cv.fasta\", 'fasta')\n",
    "to_one_hot_encoding(\"snare_ind.fasta\", 'fasta')"
   ]
  },
  {
   "cell_type": "markdown",
   "metadata": {},
   "source": [
    "### Pré-Processamento Snare_ind"
   ]
  },
  {
   "cell_type": "markdown",
   "metadata": {},
   "source": [
    "De modo a processar os dados para não ter caracteres estranhos para a análise dos fatores físico-químicos, segue-se o código abaixo:"
   ]
  },
  {
   "cell_type": "code",
   "execution_count": null,
   "metadata": {},
   "outputs": [],
   "source": [
    "# Retirar os caracteres estranhos das sequencias, usando a nomenclatura IUPAC\n",
    "seq = snare_ind_seqs.items()\n",
    "snare_ind_seqs_r = {}\n",
    "for s in seq:\n",
    "    sequencia = ''\n",
    "    for aa in str(s[1]):\n",
    "        if aa in IUPACData.protein_letters:\n",
    "            sequencia += aa\n",
    "        if len(sequencia) == len(str(s[1])):\n",
    "            snare_ind_seqs_r[s[0]] = sequencia\n",
    "print(\"Existiam \", str(len(snare_ind_seqs)-len(snare_ind_seqs_r)) ,\" sequências que nao tinham apenas as letras IUPAC.\")"
   ]
  },
  {
   "cell_type": "code",
   "execution_count": null,
   "metadata": {},
   "outputs": [],
   "source": [
    "from propythia.descriptors import Descriptor\n",
    "from propythia.sequence import ReadSequence"
   ]
  },
  {
   "cell_type": "code",
   "execution_count": null,
   "metadata": {},
   "outputs": [],
   "source": [
    "# Calculo das features para cada ficheiro\n",
    "def calculate_feature(data):\n",
    "    list_feature = []\n",
    "    seq = data.items()\n",
    "    for s in seq:\n",
    "        res = {'sequence': str(s[1])}\n",
    "        sequence = ReadSequence()  # creating sequence object\n",
    "        ps = sequence.read_protein_sequence(str(s[1]))\n",
    "        protein = Descriptor(ps)  # creating object to calculate descriptors\n",
    "        feature = protein.adaptable([19, 20, 21, 24, 26, 32], lamda_paac=4, lamda_apaac=4)\n",
    "        # feature = protein.get_all(lamda_paac=5, lamda_apaac=5) #minimal seq len = 5\n",
    "        # lambda should not be larger than len(sequence)\n",
    "        res.update(feature)\n",
    "        list_feature.append(res)\n",
    "    print('saving features')\n",
    "    df = pd.DataFrame(list_feature)\n",
    "    return df\n",
    "\n",
    "snare_ind_features = calculate_feature(snare_ind_seqs_r) # calculo das features"
   ]
  },
  {
   "cell_type": "code",
   "execution_count": null,
   "metadata": {},
   "outputs": [],
   "source": [
    "snare_ind_features.to_csv('snare_ind_feature.csv', index = False) # guardar o ficheiro com as features num ficheiro .csv"
   ]
  },
  {
   "cell_type": "markdown",
   "metadata": {},
   "source": [
    "De modo a facilitar a utilização do código, devido ao tempo de processamento para o cálculo das features, correu-se o código uma vez e a partir de agora iremos ler os ficheiros .csv"
   ]
  },
  {
   "cell_type": "code",
   "execution_count": null,
   "metadata": {},
   "outputs": [],
   "source": [
    "snare_ind_feature = pd.read_csv('snare_ind_feature.csv', low_memory = False) #data frame com as features das snares_ind"
   ]
  },
  {
   "cell_type": "code",
   "execution_count": null,
   "metadata": {},
   "outputs": [],
   "source": [
    "snare_ind_feature.describe() #sumario das caracteristicas fisico-quimicas das snares_ind"
   ]
  },
  {
   "cell_type": "markdown",
   "metadata": {},
   "source": [
    "Com a análise deste sumário podemos ver que o comprimento médio das sequencias snares_ind é cerca de 658 aa, que a média das cargas é negativa (-6.786, o mesmo acontecendo com a densidade da carga."
   ]
  },
  {
   "cell_type": "code",
   "execution_count": null,
   "metadata": {},
   "outputs": [],
   "source": [
    "boxplot_snares_len = snare_ind_feature.boxplot(column=['lenght'])\n",
    "boxplot_snares_len.plot()\n",
    "plt.show()\n",
    "\n",
    "snare_ind_feature.iloc[:,[1]].hist(bins=20)"
   ]
  },
  {
   "cell_type": "markdown",
   "metadata": {},
   "source": [
    "Com a análise destes dois gráficos do comprimento das sequncias podemos verificar que a maioria das sequências não ultrapassa os 2000 aa. "
   ]
  },
  {
   "cell_type": "code",
   "execution_count": null,
   "metadata": {},
   "outputs": [],
   "source": [
    "boxplot_snares_ch = snare_ind_feature.boxplot(column=['charge'])\n",
    "boxplot_snares_ch.plot()\n",
    "plt.show()\n",
    "\n",
    "snare_ind_feature.iloc[:,[2]].hist()"
   ]
  },
  {
   "cell_type": "markdown",
   "metadata": {},
   "source": [
    "Com o boxplot da carga, podemos verificar que os valores das cargas das sequências são muito variáveis, isto é comprovado pela grande quantidade de outliers presentes no gráfico. Pelo histograma conseguimos verificar que é entre a carga 0 e 25 que se encontra o maior número de sequências."
   ]
  },
  {
   "cell_type": "markdown",
   "metadata": {},
   "source": [
    "### Pré-processamento Snares_cv"
   ]
  },
  {
   "cell_type": "code",
   "execution_count": null,
   "metadata": {},
   "outputs": [],
   "source": [
    "# Retirar os caracteres estranhos das sequencias, usando a nomenclatura IUPAC\n",
    "seq= snare_cv_seqs.items()\n",
    "snare_cv_seqs_r = {}\n",
    "for s in seq:\n",
    "    sequencia = ''\n",
    "    for aa in str(s[1]):\n",
    "        if aa in IUPACData.protein_letters:\n",
    "            sequencia += aa\n",
    "        if len(sequencia) == len(str(s[1])):\n",
    "            snare_cv_seqs_r[s[0]] = sequencia\n",
    "            \n",
    "print(\"Existiam \", str(len(snare_cv_seqs)-len(snare_cv_seqs_r)) ,\" sequencias que nao tinham apenas as letras IUPAC\")"
   ]
  },
  {
   "cell_type": "code",
   "execution_count": null,
   "metadata": {},
   "outputs": [],
   "source": [
    "from Features import Calc_feature"
   ]
  },
  {
   "cell_type": "code",
   "execution_count": null,
   "metadata": {},
   "outputs": [],
   "source": [
    "# Criaçao de um df para ser posssivel fazer o calculo das features\n",
    "df_snare_cv = pd.DataFrame(list(snare_cv_seqs_r.items()),columns = ['id','sequence']) "
   ]
  },
  {
   "cell_type": "code",
   "execution_count": null,
   "metadata": {},
   "outputs": [],
   "source": [
    "# Calculo das features para o ficheiro snares_cv\n",
    "fea = Calc_feature(df_snare_cv.iloc[:,:],'sequence',[19,20,21,24,26,32], \"snare_cv_feature.csv\")\n",
    "fea.run()\n",
    "fea.toDataframe()"
   ]
  },
  {
   "cell_type": "code",
   "execution_count": null,
   "metadata": {},
   "outputs": [],
   "source": [
    "# De modo a facilitar o uso dos dados, a função anterior guardou num ficheiro .csv os resultados do calculo das features e agora\n",
    "# Podemos apenas ler esse ficheiro\n",
    "snare_cv_feature = pd.read_csv('snare_cv_feature.csv', low_memory = False)"
   ]
  },
  {
   "cell_type": "code",
   "execution_count": null,
   "metadata": {
    "scrolled": true
   },
   "outputs": [],
   "source": [
    "#retiramos a primeira coluna que tinha informação repetida\n",
    "snare_cv_feature = snare_cv_feature.loc[:,snare_cv_feature.columns[1:]]"
   ]
  },
  {
   "cell_type": "code",
   "execution_count": null,
   "metadata": {},
   "outputs": [],
   "source": [
    "snare_cv_feature.describe() #sumario das caracteristicas fisico-quimicas das snares_ind"
   ]
  },
  {
   "cell_type": "markdown",
   "metadata": {},
   "source": [
    "Com a análise deste sumário podemos ver que o comprimento médio das sequências snares_cv é cerca de 312 aa, que a média das cargas é negativa (-2.338912), o mesmo acontecendo com a densidade da carga. "
   ]
  },
  {
   "cell_type": "code",
   "execution_count": null,
   "metadata": {},
   "outputs": [],
   "source": [
    "boxplot_snares_cv_len = snare_cv_feature.boxplot(column=['lenght'])\n",
    "boxplot_snares_cv_len.plot()\n",
    "plt.show()\n",
    "\n",
    "snare_cv_feature.iloc[:,[1]].hist(bins=20)"
   ]
  },
  {
   "cell_type": "markdown",
   "metadata": {},
   "source": [
    "Com a análise dos dois gráficos conseguimos perceber que a maioria das sequências snares_cv não ultrapassa o 1500 aa, estando a maioria entre cerca dos 200 a 500 aa. "
   ]
  },
  {
   "cell_type": "code",
   "execution_count": null,
   "metadata": {},
   "outputs": [],
   "source": [
    "boxplot_snares_cv_ch = snare_cv_feature.boxplot(column=['charge'])\n",
    "boxplot_snares_cv_ch.plot()\n",
    "plt.show()\n",
    "\n",
    "snare_cv_feature.iloc[:,[2]].hist()"
   ]
  },
  {
   "cell_type": "markdown",
   "metadata": {},
   "source": [
    "Com a análise destes dois gráficos podemos reparar que a carga da maioria destas sequências snares encontra-se muito perto de 0, mais precisamente entre cerca de -25 a +25"
   ]
  },
  {
   "cell_type": "markdown",
   "metadata": {},
   "source": [
    "###  Pré-processamento Non-Snares_ind"
   ]
  },
  {
   "cell_type": "code",
   "execution_count": null,
   "metadata": {},
   "outputs": [],
   "source": [
    "# Retirar os caracteres estranhos das sequencias, usando a nomenclatura IUPAC\n",
    "seq= non_snare_ind_seqs.items()\n",
    "non_snare_ind_seqs_r = {}\n",
    "for s in seq:\n",
    "    sequencia = ''\n",
    "    for aa in str(s[1]):\n",
    "        if aa in IUPACData.protein_letters:\n",
    "            sequencia += aa\n",
    "        if len(sequencia) == len(str(s[1])):\n",
    "            non_snare_ind_seqs_r[s[0]] = sequencia\n",
    "            \n",
    "print(\"Existiam \", str(len(non_snare_ind_seqs)-len(non_snare_ind_seqs_r)) ,\" sequencias que nao tinham apenas as letras IUPAC\")"
   ]
  },
  {
   "cell_type": "code",
   "execution_count": null,
   "metadata": {},
   "outputs": [],
   "source": [
    "# Ccalculo das features\n",
    "non_snare_ind_features = calculate_feature(non_snare_ind_seqs_r)"
   ]
  },
  {
   "cell_type": "code",
   "execution_count": null,
   "metadata": {},
   "outputs": [],
   "source": [
    "# Guardar o df do calculo das features num ficheiro .csv para ser mais fácil fazer as proximas analises, assim so teremos\n",
    "# Importar o ficheiro resultante\n",
    "non_snare_ind_features.to_csv('non_snare_ind_feature.csv', index = False)"
   ]
  },
  {
   "cell_type": "code",
   "execution_count": null,
   "metadata": {},
   "outputs": [],
   "source": [
    "# Importe do ficheiro .csv do calculo das features para um df\n",
    "non_snare_ind_feature = pd.read_csv('non_snare_ind_feature.csv', low_memory = False)"
   ]
  },
  {
   "cell_type": "code",
   "execution_count": null,
   "metadata": {},
   "outputs": [],
   "source": [
    "non_snare_ind_feature.describe() # sumário das caracteristicas fisico-quimicas das non_snares_ind"
   ]
  },
  {
   "cell_type": "markdown",
   "metadata": {},
   "source": [
    "Com a análise deste sumário podemos ver que o comprimento médio das sequências non_snares_ind é cerca de 613 aa, que a média das cargas é negativa (-4.837536), o mesmo acontecendo com a densidade da carga."
   ]
  },
  {
   "cell_type": "code",
   "execution_count": null,
   "metadata": {},
   "outputs": [],
   "source": [
    "boxplot_non_snares_ind_len = non_snare_ind_feature.boxplot(column=['lenght'])\n",
    "boxplot_non_snares_ind_len.plot()\n",
    "plt.show()\n",
    "\n",
    "non_snare_ind_feature.iloc[:,[1]].hist(bins=20)"
   ]
  },
  {
   "cell_type": "markdown",
   "metadata": {},
   "source": [
    "Com a análise destes gráficos podemos ver que a maioria das sequências tem um comprimento inferior a cerca de 1500 aa."
   ]
  },
  {
   "cell_type": "code",
   "execution_count": null,
   "metadata": {},
   "outputs": [],
   "source": [
    "# Graficos da distribuicao da carga das sequencias\n",
    "boxplot_non_snares_ind_ch = non_snare_ind_feature.boxplot(column=['charge'])\n",
    "boxplot_non_snares_ind_ch.plot()\n",
    "plt.show()\n",
    "\n",
    "non_snare_ind_feature.iloc[:,[2]].hist()"
   ]
  },
  {
   "cell_type": "markdown",
   "metadata": {},
   "source": [
    "Com a análise destes dois gráficos, que representam a distribuição da carga das sequências non_snares_ind podemos verificar que a maioria encontra-se entre cerca dos -50 a 50 e a média esta um pouco acima de zero. No entanto, existem sequências com uma carga de cerca de -300."
   ]
  },
  {
   "cell_type": "markdown",
   "metadata": {},
   "source": [
    "### Pré-processamento Non_Snares_cv"
   ]
  },
  {
   "cell_type": "code",
   "execution_count": null,
   "metadata": {},
   "outputs": [],
   "source": [
    "# Retirar os caracteres estranhos das sequencias, usando a nomenclatura IUPAC\n",
    "seq= non_snare_cv_seqs.items()\n",
    "non_snare_cv_seqs_r = {}\n",
    "for s in seq:\n",
    "    sequencia = ''\n",
    "    for aa in str(s[1]):\n",
    "        if aa in IUPACData.protein_letters:\n",
    "            sequencia += aa\n",
    "        if len(sequencia) == len(str(s[1])):\n",
    "            non_snare_cv_seqs_r[s[0]] = sequencia\n",
    "            \n",
    "print(\"Existiam \", str(len(non_snare_cv_seqs)-len(non_snare_cv_seqs_r)) ,\" sequencias que nao tinham apenas as letras IUPAC\")"
   ]
  },
  {
   "cell_type": "code",
   "execution_count": null,
   "metadata": {},
   "outputs": [],
   "source": [
    "# Data frame necessário para o calculo das features\n",
    "df_non_snare_cv = pd.DataFrame(list(non_snare_cv_seqs_r.items()),columns = ['id','sequence']) "
   ]
  },
  {
   "cell_type": "code",
   "execution_count": null,
   "metadata": {},
   "outputs": [],
   "source": [
    "# Calculo das fetaures e guardar o resultado num ficheiro .csv\n",
    "fea2 = Calc_feature(df_non_snare_cv.iloc[:,:],'sequence',[19,20,21,24,26,32], \"non_snare_cv_feature.csv\")\n",
    "fea2.run()\n",
    "fea2.toDataframe()"
   ]
  },
  {
   "cell_type": "code",
   "execution_count": null,
   "metadata": {},
   "outputs": [],
   "source": [
    "# Importe do calculo das features\n",
    "non_snare_cv_feature = pd.read_csv('non_snare_cv_feature.csv', low_memory = False)\n",
    "#retiramos a primeira coluna que tinha informação repetida\n",
    "non_snare_cv_feature = non_snare_cv_feature.loc[:,non_snare_cv_feature.columns[1:]]"
   ]
  },
  {
   "cell_type": "code",
   "execution_count": null,
   "metadata": {},
   "outputs": [],
   "source": [
    "non_snare_cv_feature.describe() # sumário das caracteristicas fisico-quimicas das non_snares_ind"
   ]
  },
  {
   "cell_type": "markdown",
   "metadata": {},
   "source": [
    "Com a análise deste sumário podemos ver que o comprimento médio das sequências non_snares_cv é cerca de 561 aa, que a média das cargas é negativa (-3.631568), o mesmo acontecendo com a densidade da carga."
   ]
  },
  {
   "cell_type": "code",
   "execution_count": null,
   "metadata": {},
   "outputs": [],
   "source": [
    "# Graficos da distribuicao do tamanho das sequencias non_snares_cv\n",
    "boxplot_non_snares_cv_len = non_snare_cv_feature.boxplot(column=['lenght'])\n",
    "boxplot_non_snares_cv_len.plot()\n",
    "plt.show()\n",
    "\n",
    "non_snare_cv_feature.iloc[:,[1]].hist(bins=20)"
   ]
  },
  {
   "cell_type": "markdown",
   "metadata": {},
   "source": [
    "Com a análise destes gráficos podemos ver que a maioria das sequências apresenta um tamanho que nao ultrapassa os 2000 aa. No entanto pelo boxplot podemos ver que existem algumas sequências que ultrapassam esse valor, chegando mesmo aos 5000 aa."
   ]
  },
  {
   "cell_type": "code",
   "execution_count": null,
   "metadata": {},
   "outputs": [],
   "source": [
    "# Graficos da distibuicao da carga das sequencias\n",
    "boxplot_non_snares_cv_ch = non_snare_cv_feature.boxplot(column=['charge'])\n",
    "boxplot_non_snares_cv_ch.plot()\n",
    "plt.show()\n",
    "\n",
    "non_snare_cv_feature.iloc[:,[2]].hist()"
   ]
  },
  {
   "cell_type": "markdown",
   "metadata": {},
   "source": [
    "Com a análise destes gráficos podemos verificar que a maioria das sequências entra-se entre cerca de -100 e 100. Através do boxplot podemos ver que a maioria é mesmo negativa, existindo no entanto uma sequência com uma carga superior a 400."
   ]
  },
  {
   "cell_type": "markdown",
   "metadata": {},
   "source": [
    "Já que os gráficos não nos davam muita informação em relação à carga das sequências, principalmente por existir uma boa divisao entre positivas e negativas, resolvemos analisar a média de todos os ficheiros, separando as sequências positivas das negativas."
   ]
  },
  {
   "cell_type": "code",
   "execution_count": null,
   "metadata": {},
   "outputs": [],
   "source": [
    "# Media da carga das sequencias non_snare_cv positivas\n",
    "print(non_snare_cv_feature.loc[non_snare_cv_feature['charge']>=0,'charge'].mean())\n",
    "# Media da carga das sequencias non_snare_cv negativas\n",
    "print(non_snare_cv_feature.loc[non_snare_cv_feature['charge']<0,'charge'].mean())"
   ]
  },
  {
   "cell_type": "code",
   "execution_count": null,
   "metadata": {},
   "outputs": [],
   "source": [
    "# Media da carga das sequencias non_snare_ind positivas\n",
    "print(non_snare_ind_feature.loc[non_snare_ind_feature['charge']>=0,'charge'].mean())\n",
    "# Media da carga das sequencias non_snare_ind negativas\n",
    "print(non_snare_ind_feature.loc[non_snare_ind_feature['charge']<0,'charge'].mean())"
   ]
  },
  {
   "cell_type": "markdown",
   "metadata": {},
   "source": [
    "Em relação às cargas das non_snares, podemos ver que ao comparar os dois ficheiros as cargas não são muito diferentes umas das outras (ao comparar positivas com positivas e negativas com negativas)."
   ]
  },
  {
   "cell_type": "code",
   "execution_count": null,
   "metadata": {},
   "outputs": [],
   "source": [
    "# Media da carga das sequencias snare_ind positivas\n",
    "print(snare_ind_feature.loc[snare_ind_feature['charge']>=0,'charge'].mean())\n",
    "# Media da carga das sequencias snare_ind negativas\n",
    "print(snare_ind_feature.loc[snare_ind_feature['charge']<0,'charge'].mean())"
   ]
  },
  {
   "cell_type": "code",
   "execution_count": null,
   "metadata": {},
   "outputs": [],
   "source": [
    "# Media da carga das sequencias snare_cv positivas\n",
    "print(snare_cv_feature.loc[snare_cv_feature['charge']>=0,'charge'].mean())\n",
    "# Media da carga das sequencias snare_cv negativas\n",
    "print(snare_cv_feature.loc[snare_cv_feature['charge']<0,'charge'].mean())"
   ]
  },
  {
   "cell_type": "markdown",
   "metadata": {},
   "source": [
    "Em relação às snares já não podemos concluir que são parecidas entre si, principalmente porque nas negativas apresenta uma diferença de 10. Ao tentarmos comparar as snares com as non_snares fica complicado pois se formos comparar com as snares_ind, os valores não variam muito. Se compararmos com as snares_cv estes valores já são diferentes.\n"
   ]
  },
  {
   "cell_type": "markdown",
   "metadata": {},
   "source": [
    "## Juntar os datasets de ind para o teste e os de cv para o treino (para passos futuros)"
   ]
  },
  {
   "cell_type": "markdown",
   "metadata": {},
   "source": [
    "Junção dos dataframes independentes que serão utilizados para testar posteriormente os modelos:"
   ]
  },
  {
   "cell_type": "code",
   "execution_count": null,
   "metadata": {},
   "outputs": [],
   "source": [
    "# Comecamos por criar uma varivel label em que 1 representa sequencias snare e 0 sequencias non snare\n",
    "snare_ind_feature['label'] = 1\n",
    "non_snare_ind_feature['label'] = 0"
   ]
  },
  {
   "cell_type": "code",
   "execution_count": null,
   "metadata": {},
   "outputs": [],
   "source": [
    "print(snare_ind_feature.shape)\n",
    "print(non_snare_ind_feature.shape)"
   ]
  },
  {
   "cell_type": "markdown",
   "metadata": {},
   "source": [
    "Em relação ao shape destes datasets, os primeiros valores correspondem ao número de sequências que se encontra em cada ficheiro, ou seja o snare_ind_feature tem 4386 sequências e o non_snare_ind_feature 4403 sequências. O segundo número corresponde à primeira coluna que tem a sequência, a última que tem a variavel label e as 640 features calculadas."
   ]
  },
  {
   "cell_type": "code",
   "execution_count": null,
   "metadata": {},
   "outputs": [],
   "source": [
    "# Juncao dos dois dataframes\n",
    "dataset = pd.concat([snare_ind_feature, non_snare_ind_feature])"
   ]
  },
  {
   "cell_type": "code",
   "execution_count": null,
   "metadata": {},
   "outputs": [],
   "source": [
    "# Guardamos a variavel label numa nova variavel e retiramos esta variavel do dataset\n",
    "labels = dataset['label']\n",
    "dataset = dataset.loc[:, dataset.columns != 'label']"
   ]
  },
  {
   "cell_type": "code",
   "execution_count": null,
   "metadata": {},
   "outputs": [],
   "source": [
    "df = dataset.loc[:,dataset.columns[1:]] # como na proxima etapa nao sera necessario a sequencia retiramos do dataset\n",
    "df"
   ]
  },
  {
   "cell_type": "markdown",
   "metadata": {},
   "source": [
    "Aqui podemos verificar que só existem as 640 colunas correspodentes às features, pois foram retiradas as colunas dos labels e com a sequência."
   ]
  },
  {
   "cell_type": "markdown",
   "metadata": {},
   "source": [
    "Realizámos os passos anteriores mas para os dados de cross-validation que serão usados para treino:"
   ]
  },
  {
   "cell_type": "code",
   "execution_count": null,
   "metadata": {},
   "outputs": [],
   "source": [
    "# Comecamos por criar uma varivel label em que 1 representa sequencias snare e 0 sequencias non snare\n",
    "snare_cv_feature['label'] = 1\n",
    "non_snare_cv_feature['label'] = 0"
   ]
  },
  {
   "cell_type": "code",
   "execution_count": null,
   "metadata": {},
   "outputs": [],
   "source": [
    "print(snare_cv_feature.shape)\n",
    "print(non_snare_cv_feature.shape)"
   ]
  },
  {
   "cell_type": "markdown",
   "metadata": {},
   "source": [
    "Em relação ao shape destes datasets, os primeiros valores correspondem ao número de sequencias que se encontra em cada ficheiro, ou seja o snare_cv_feature tem 21947 sequências e o non_snare_cv_feature 22221 sequências. O segundo número corresponde à primeira coluna que tem a sequência, a última que tem a variável label e as 640 features calculadas."
   ]
  },
  {
   "cell_type": "code",
   "execution_count": null,
   "metadata": {},
   "outputs": [],
   "source": [
    "# Juncao dos dois dataframes\n",
    "dataset2 = pd.concat([snare_cv_feature, non_snare_cv_feature])"
   ]
  },
  {
   "cell_type": "code",
   "execution_count": null,
   "metadata": {},
   "outputs": [],
   "source": [
    "# Guardamos a variavel label numa nova variavel e retiramos esta variavel do dataset\n",
    "labels2 = dataset2['label']\n",
    "dataset2= dataset2.loc[:, dataset2.columns != 'label']"
   ]
  },
  {
   "cell_type": "code",
   "execution_count": null,
   "metadata": {},
   "outputs": [],
   "source": [
    "df2 = dataset2.loc[:,dataset2.columns[1:]]  # como na proxima etapa nao sera necessario a sequencia retiramos do dataset\n",
    "df2"
   ]
  },
  {
   "cell_type": "markdown",
   "metadata": {},
   "source": [
    "Aqui podemos verificar que só existem as 640 colunas correspodentes às features, pois foram retiradas as colunas dos labels e com a sequência."
   ]
  }
 ],
 "metadata": {
  "kernelspec": {
   "display_name": "Python 3",
   "language": "python",
   "name": "python3"
  },
  "language_info": {
   "codemirror_mode": {
    "name": "ipython",
    "version": 3
   },
   "file_extension": ".py",
   "mimetype": "text/x-python",
   "name": "python",
   "nbconvert_exporter": "python",
   "pygments_lexer": "ipython3",
   "version": "3.7.6"
  }
 },
 "nbformat": 4,
 "nbformat_minor": 4
}
